{
 "cells": [
  {
   "cell_type": "code",
   "execution_count": 5,
   "metadata": {
    "collapsed": false
   },
   "outputs": [],
   "source": [
    "import pandas as pd\n",
    "import numpy as np\n",
    "import matplotlib.pyplot as plt\n",
    "import pickle \n",
    "from scipy import  stats\n",
    "import statsmodels.api as sm\n",
    "\n",
    "def NationQtyToFile(item_id,store_id,preQty):\n",
    "    if store_id == 0:\n",
    "        store_id = 'all'\n",
    "    preResultFile = open(\"TwoWeek79to93.csv\",\"a\")\n",
    "    #preResultFile = open(\"SubmissionResult0507.csv\",\"a\")\n",
    "    resultLine = [str(item_id),str(store_id),str(preQty)]\n",
    "    printline = \",\".join(resultLine)\n",
    "    preResultFile.writelines(printline)\n",
    "    preResultFile.write('\\n')\n",
    "    preResultFile.close()\n",
    "    \n",
    "def CorrPlot(dta):\n",
    "    fig = plt.figure(figsize=(12,8))\n",
    "    ax1=fig.add_subplot(211)\n",
    "    fig = sm.graphics.tsa.plot_acf(dta,lags=40,ax=ax1)\n",
    "    ax2 = fig.add_subplot(212)\n",
    "    fig = sm.graphics.tsa.plot_pacf(dta,lags=40,ax=ax2)\n",
    "\n",
    "def ARMApredict(QtyData):\n",
    "        temp = []\n",
    "        for i in range(len(QtyData )):\n",
    "            if QtyData[i] >0:\n",
    "                break;\n",
    "        #temp.append(temp1[i])\n",
    "        temp = QtyData[i:]\n",
    "        temp =  np.array(temp)\n",
    "        sortedTemp = sorted(temp,reverse = True)\n",
    "        for i in range(3):\n",
    "            temp[temp==sortedTemp[i]] = temp.mean()\n",
    "        dta=pd.Series(temp)\n",
    "        start_date = 1801\n",
    "        end_date = start_date+len(temp)-1\n",
    "        dta.index = pd.Index(sm.tsa.datetools.dates_from_range(str(start_date),str(end_date)))\n",
    "        dta= dta.diff(1)[1:]\n",
    "        try:\n",
    "            arma_mod01 = sm.tsa.ARMA(dta,(5,1)).fit()\n",
    "        except ValueError:\n",
    "            arma_mod01 = sm.tsa.ARMA(dta,(3,1)).fit()\n",
    "        except NameError:\n",
    "            arma_mod01 = sm.tsa.ARMA(dta,(3,1)).fit()\n",
    "        pre_start_date = end_date+1\n",
    "        pre_end_date = end_date+13\n",
    "        predicts = arma_mod01.predict(str(pre_start_date), str(pre_end_date), dynamic=True)\n",
    "        qtyPrediction = QtyPredict(QtyData,predicts)\n",
    "        return sum(qtyPrediction[-14:])\n",
    "\n",
    "def QtyPredict(temp1,predicts ):\n",
    "    for i in range(len(predicts)):\n",
    "        temp1.append(temp1[-1]+predicts[i] )\n",
    "    return temp1\n",
    "\n",
    "f= open('itemCostDict.pkl','rb')\n",
    "itemCostDict = pickle.load(f)\n",
    "f.close()\n",
    "f= open('QtyStoredateSortedData.pkl','rb')\n",
    "QtyStoreDataDict = pickle.load(f)\n",
    "f.close()\n",
    "f= open('QtyNationdateSortedData.pkl','rb')\n",
    "QtyNationDataDict = pickle.load(f)\n",
    "f.close()"
   ]
  },
  {
   "cell_type": "code",
   "execution_count": 29,
   "metadata": {
    "collapsed": false,
    "scrolled": false
   },
   "outputs": [
    {
     "name": "stdout",
     "output_type": "stream",
     "text": [
      "999\n",
      "26622\n"
     ]
    }
   ],
   "source": [
    "itemList = np.array(QtyStoreDataDict.keys())\n",
    "for i in range(999,len(itemList)-1):\n",
    "    item_id = itemList[i]\n",
    "    print item_id\n",
    "    print i\n",
    "    for store_id in QtyStoreDataDict[item_id].keys():\n",
    "        QtyData = QtyStoreDataDict[item_id][store_id]\n",
    "        if sum(QtyData[-40:])>50:\n",
    "            LastTwoWeeksQty = ARMApredict(QtyData)\n",
    "            if LastTwoWeeksQty<0:\n",
    "                LastTwoWeeksQty = 0\n",
    "        else:\n",
    "            LastTwoWeeksQty = np.mean(QtyData[-40:])*14\n",
    "        NationQtyToFile(item_id,store_id,LastTwoWeeksQty)\n",
    "\n",
    "for i in range(999,len(itemList)):\n",
    "    item_id = itemList[i]\n",
    "    print i\n",
    "    print item_id\n",
    "    QtyData = QtyNationDataDict[item_id]\n",
    "    if sum(QtyData[-40:])>30:\n",
    "        LastTwoWeeksQty = ARMApredict(QtyData)\n",
    "        if LastTwoWeeksQty<0:\n",
    "            LastTwoWeeksQty = 0\n",
    "    else:\n",
    "        LastTwoWeeksQty = np.mean(QtyData[-40:])*14\n",
    "    NationQtyToFile(item_id,0,LastTwoWeeksQty)"
   ]
  },
  {
   "cell_type": "code",
   "execution_count": 8,
   "metadata": {
    "collapsed": false
   },
   "outputs": [
    {
     "name": "stdout",
     "output_type": "stream",
     "text": [
      "110\n"
     ]
    }
   ],
   "source": []
  },
  {
   "cell_type": "code",
   "execution_count": 6,
   "metadata": {
    "collapsed": true
   },
   "outputs": [],
   "source": [
    "#================================\n",
    "#===============================\n",
    "QtyStoreTwoWeekDict = {}\n",
    "for item_id in QtyStoreDataDict.keys():\n",
    "    QtyStoreTwoWeekDict.setdefault(item_id,{})\n",
    "    for store_id in QtyStoreDataDict[item_id].keys():\n",
    "        QtyStoreTwoWeekDict [item_id][store_id] = []\n",
    "        temp = QtyStoreDataDict[item_id][store_id]\n",
    "        temp =np.array(temp)\n",
    "        Qty = sum(temp[79:93])\n",
    "        NationQtyToFile(item_id,store_id,Qty)\n",
    "        \n",
    "TwoWeekNationQtyDict = {}\n",
    "for item_id in QtyNationDataDict.keys():\n",
    "    TwoWeekNationQtyDict.setdefault(item_id,{})\n",
    "    TwoWeekNationQtyDict[item_id] = []\n",
    "    temp = QtyNationDataDict[item_id]\n",
    "    temp =np.array(temp)\n",
    "    Qty = sum(temp[79:93])\n",
    "    NationQtyToFile(item_id,0,Qty)"
   ]
  },
  {
   "cell_type": "code",
   "execution_count": null,
   "metadata": {
    "collapsed": true
   },
   "outputs": [],
   "source": []
  }
 ],
 "metadata": {
  "kernelspec": {
   "display_name": "Python 2",
   "language": "python",
   "name": "python2"
  },
  "language_info": {
   "codemirror_mode": {
    "name": "ipython",
    "version": 2
   },
   "file_extension": ".py",
   "mimetype": "text/x-python",
   "name": "python",
   "nbconvert_exporter": "python",
   "pygments_lexer": "ipython2",
   "version": "2.7.6"
  }
 },
 "nbformat": 4,
 "nbformat_minor": 0
}
